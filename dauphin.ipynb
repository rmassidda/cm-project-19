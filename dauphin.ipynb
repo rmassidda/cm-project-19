{
 "cells": [
  {
   "cell_type": "markdown",
   "metadata": {},
   "source": [
    "## Imports"
   ]
  },
  {
   "cell_type": "code",
   "execution_count": 146,
   "metadata": {},
   "outputs": [],
   "source": [
    "import numpy as np\n",
    "from scipy import optimize as opt\n",
    "from scipy.sparse import linalg"
   ]
  },
  {
   "cell_type": "markdown",
   "metadata": {},
   "source": [
    "## Data analysis"
   ]
  },
  {
   "cell_type": "markdown",
   "metadata": {},
   "source": [
    "Caricamento della matrice $X$ da file."
   ]
  },
  {
   "cell_type": "code",
   "execution_count": 17,
   "metadata": {},
   "outputs": [
    {
     "data": {
      "text/plain": [
       "(1765, 20)"
      ]
     },
     "execution_count": 17,
     "metadata": {},
     "output_type": "execute_result"
    }
   ],
   "source": [
    "fname = 'dataset/ML-CUP19-TR.csv'\n",
    "X     = np.loadtxt(fname,delimiter=',')\n",
    "X     = X[:,1:-2] # Remove ID and target\n",
    "n, k  = X.shape\n",
    "(n, k)"
   ]
  },
  {
   "cell_type": "markdown",
   "metadata": {},
   "source": [
    "Costruzione della matrice $\\hat{X}$ come indicato dal progetto."
   ]
  },
  {
   "cell_type": "code",
   "execution_count": 24,
   "metadata": {},
   "outputs": [
    {
     "data": {
      "text/plain": [
       "(1785, 1765)"
      ]
     },
     "execution_count": 24,
     "metadata": {},
     "output_type": "execute_result"
    }
   ],
   "source": [
    "I  = np.eye(n)\n",
    "XH = np.concatenate((X.T, I), axis=0)\n",
    "m, n = XH.shape\n",
    "(m, n)"
   ]
  },
  {
   "cell_type": "markdown",
   "metadata": {},
   "source": [
    "Costruzione della Hessiana, conferma che $\\nabla^2 f(x) = \\hat{X}^T\\hat{X} = X X^T+I$ e dunque positive definite."
   ]
  },
  {
   "cell_type": "code",
   "execution_count": 37,
   "metadata": {},
   "outputs": [
    {
     "data": {
      "text/plain": [
       "True"
      ]
     },
     "execution_count": 37,
     "metadata": {},
     "output_type": "execute_result"
    }
   ],
   "source": [
    "assert (XH.T @ XH).all() == (X@X.T + I).all()\n",
    "H   = X@X.T + I\n",
    "eig = np.linalg.eigvals(H)\n",
    "np.all(eig > 0)"
   ]
  },
  {
   "cell_type": "markdown",
   "metadata": {},
   "source": [
    "$y$ è un vettore casuale."
   ]
  },
  {
   "cell_type": "code",
   "execution_count": 255,
   "metadata": {},
   "outputs": [
    {
     "data": {
      "text/plain": [
       "(1785,)"
      ]
     },
     "execution_count": 255,
     "metadata": {},
     "output_type": "execute_result"
    }
   ],
   "source": [
    "sigma = 50\n",
    "mu    = 15\n",
    "y = np.random.random(m) * sigma + mu\n",
    "y.shape"
   ]
  },
  {
   "cell_type": "markdown",
   "metadata": {},
   "source": [
    "## Direct Numpy solution"
   ]
  },
  {
   "cell_type": "code",
   "execution_count": 256,
   "metadata": {},
   "outputs": [
    {
     "data": {
      "text/plain": [
       "(1765,)"
      ]
     },
     "execution_count": 256,
     "metadata": {},
     "output_type": "execute_result"
    }
   ],
   "source": [
    "x_1 = np.linalg.pinv(XH) @ y\n",
    "x_1.shape"
   ]
  },
  {
   "cell_type": "code",
   "execution_count": 257,
   "metadata": {},
   "outputs": [
    {
     "data": {
      "text/plain": [
       "(1765,)"
      ]
     },
     "execution_count": 257,
     "metadata": {},
     "output_type": "execute_result"
    }
   ],
   "source": [
    "x_2 = np.linalg.lstsq(XH, y, rcond=None)[0]\n",
    "x_2.shape"
   ]
  },
  {
   "cell_type": "code",
   "execution_count": 258,
   "metadata": {},
   "outputs": [
    {
     "data": {
      "text/plain": [
       "3.2789388262071844e-12"
      ]
     },
     "execution_count": 258,
     "metadata": {},
     "output_type": "execute_result"
    }
   ],
   "source": [
    "np.linalg.norm(x_1-x_2)"
   ]
  },
  {
   "cell_type": "markdown",
   "metadata": {},
   "source": [
    "## Newton method"
   ]
  },
  {
   "cell_type": "code",
   "execution_count": 259,
   "metadata": {},
   "outputs": [],
   "source": [
    "f   = lambda w: 1/2 * np.linalg.norm(XH@w - y)**2\n",
    "f_1 = lambda w: XH.T @ (XH@w - y)\n",
    "f_2 = lambda w: XH.T @ XH"
   ]
  },
  {
   "cell_type": "code",
   "execution_count": 260,
   "metadata": {},
   "outputs": [
    {
     "name": "stderr",
     "output_type": "stream",
     "text": [
      "/home/rmassidda/envs/notebook/lib64/python3.8/site-packages/scipy/optimize/_minimize.py:522: RuntimeWarning: Method BFGS does not use Hessian information (hess).\n",
      "  warn('Method %s does not use Hessian information (hess).' % method,\n"
     ]
    },
    {
     "name": "stdout",
     "output_type": "stream",
     "text": [
      "1923578.112505273\n",
      "1833005.0142160323\n",
      "1812425.1891567379\n",
      "1806210.4754677257\n",
      "1798065.8457326954\n",
      "1723787.7265559856\n",
      "1582590.2545861865\n",
      "1494965.0179496915\n",
      "1488036.838035074\n",
      "1431847.205251294\n",
      "1324534.493537734\n",
      "1292349.823143461\n",
      "1027143.1970579764\n",
      "851028.6502295064\n",
      "851028.6502294769\n"
     ]
    }
   ],
   "source": [
    "start = np.random.random(n)\n",
    "x_3 = opt.minimize(f, start, \n",
    "                   #method='L-BFGS-B', \n",
    "                   jac=f_1,\n",
    "                   hess=f_2,\n",
    "                   callback=lambda x: print(f(x)))"
   ]
  },
  {
   "cell_type": "code",
   "execution_count": 262,
   "metadata": {},
   "outputs": [],
   "source": [
    "def newton(f, start, fprime, fsecond, maxiter=30):\n",
    "    x = start\n",
    "    print(x, f(x))\n",
    "    for _ in range(maxiter):\n",
    "        d = - np.linalg.inv(fsecond(x)) @ fprime(x)\n",
    "        x = x + d\n",
    "        print(x, f(x))\n",
    "    return x"
   ]
  },
  {
   "cell_type": "code",
   "execution_count": 263,
   "metadata": {},
   "outputs": [
    {
     "name": "stdout",
     "output_type": "stream",
     "text": [
      "[0.34942811 0.70831026 0.86268772 ... 0.5199621  0.45611373 0.86325698] 1988312.3914933947\n",
      "[ 22.91079788  46.77163103 -11.24995538 ...   3.94064607  22.42362675\n",
      "  60.03761232] 851028.6502294771\n",
      "[ 22.91079788  46.77163103 -11.24995538 ...   3.94064607  22.42362675\n",
      "  60.03761232] 851028.6502294769\n",
      "[ 22.91079788  46.77163103 -11.24995538 ...   3.94064607  22.42362675\n",
      "  60.03761232] 851028.6502294765\n",
      "[ 22.91079788  46.77163103 -11.24995538 ...   3.94064607  22.42362675\n",
      "  60.03761232] 851028.6502294769\n",
      "[ 22.91079788  46.77163103 -11.24995538 ...   3.94064607  22.42362675\n",
      "  60.03761232] 851028.6502294769\n"
     ]
    }
   ],
   "source": [
    "x_4 = newton(f, start, f_1, f_2, 5)"
   ]
  },
  {
   "cell_type": "code",
   "execution_count": 264,
   "metadata": {},
   "outputs": [
    {
     "name": "stdout",
     "output_type": "stream",
     "text": [
      "851028.6502294769\tPseudoinverse\n",
      "851028.6502294769\tDirect\n",
      "851028.6502294769\tL-BFGS\n",
      "851028.6502294769\tNewton\n"
     ]
    }
   ],
   "source": [
    "x = [x_1, x_2, x_3['x'], x_4]\n",
    "name = ['Pseudoinverse', 'Direct', 'L-BFGS', 'Newton']\n",
    "for a,b in zip(x,name):\n",
    "    print(f(a),b,sep='\\t')"
   ]
  },
  {
   "cell_type": "code",
   "execution_count": 204,
   "metadata": {},
   "outputs": [],
   "source": [
    "def krylov_newton(f, start, k=10, maxiter=1):\n",
    "    x    = start\n",
    "    print(x, f(x))\n",
    "    # Fuori dal ciclo dato che costanti\n",
    "    _, V = linalg.eigsh(f_2(x), k, which='LM')\n",
    "    V    = V.T\n",
    "    H    = V @ f_2(x) @ V.T\n",
    "    B    = np.linalg.inv(H)\n",
    "    for _ in range(maxiter):\n",
    "        #f_h  = lambda alpha: f(x + V@alpha)\n",
    "        g    = V @ f_1(x)\n",
    "        d    = - B @ g @ V\n",
    "        # \"\"\"Line Search\"\"\"\n",
    "        ls   = [0.1, 0.3, 0.9]\n",
    "        l    = np.argmin([f(x+alpha*d) for alpha in ls])\n",
    "        x    = x + ls[l]*d\n",
    "        print(l, f(x))"
   ]
  },
  {
   "cell_type": "code",
   "execution_count": 205,
   "metadata": {},
   "outputs": [
    {
     "name": "stdout",
     "output_type": "stream",
     "text": [
      "1765\n"
     ]
    }
   ],
   "source": [
    "print(n)"
   ]
  },
  {
   "cell_type": "code",
   "execution_count": 207,
   "metadata": {},
   "outputs": [
    {
     "name": "stdout",
     "output_type": "stream",
     "text": [
      "[0.85254152 0.89712139 0.63491321 ... 0.71464233 0.35736846 0.27973222] 2073689.4536952334\n",
      "2 1081179.342951762\n",
      "2 1071254.2418443286\n",
      "2 1071154.9908332543\n",
      "2 1071153.9983231437\n",
      "2 1071153.9883980418\n",
      "2 1071153.988298791\n",
      "2 1071153.988297799\n",
      "2 1071153.9882977896\n",
      "1 1071153.9882977887\n",
      "1 1071153.9882977887\n",
      "2 1071153.9882977884\n",
      "0 1071153.988297789\n",
      "1 1071153.9882977887\n",
      "1 1071153.9882977884\n",
      "0 1071153.9882977884\n"
     ]
    }
   ],
   "source": [
    "krylov_newton(f, start, k=1300, maxiter=15)"
   ]
  },
  {
   "cell_type": "code",
   "execution_count": 372,
   "metadata": {},
   "outputs": [],
   "source": [
    "def lanczos(g, d, n, k):\n",
    "    V    = np.zeros((k+1,n))\n",
    "    alpha = np.zeros((k,))\n",
    "    beta = np.zeros((k+1,))\n",
    "    w    = np.zeros((k,n))\n",
    "    V[1] = g / np.linalg.norm(g)\n",
    "    for i in range(1,k):\n",
    "        if i == k-1:\n",
    "            w[i] = d\n",
    "        else:\n",
    "            w[i] = V[i] @ f_2(x)\n",
    "        alpha[i] = w[i] @ V[i]\n",
    "        w[i] = w[i] - alpha[i] * V[i] - beta[i] * V[i-1]\n",
    "        beta[i+1] = np.linalg.norm(w[i])\n",
    "        V[i+1] = w[i] / np.linalg.norm(w[i])\n",
    "    return V[1:]"
   ]
  },
  {
   "cell_type": "code",
   "execution_count": 373,
   "metadata": {},
   "outputs": [],
   "source": [
    "def dauphin(f, start, k, maxiter=15):\n",
    "    x = start\n",
    "    n = start.shape[0]\n",
    "    d = np.zeros(n)\n",
    "    print(0, f(x))\n",
    "    for _ in range(maxiter):\n",
    "        V    = lanczos(-f_1(x), d, n, k)\n",
    "        H    = V @ f_2(x) @ V.T\n",
    "        f_h  = lambda alpha: f(x + alpha@V)\n",
    "        g    = - V @ f_1(x)\n",
    "        d    = lambda l: g @ np.linalg.inv(H + l*np.eye(k))\n",
    "        ls   = [10e-1, 10e-2, 10e-3, 10e-4]\n",
    "        l    = ls[np.argmin([f_h(d(l)) for l in ls])]\n",
    "        d    = d(l) @ V\n",
    "        x    = x + d\n",
    "        print(l, f(x))"
   ]
  },
  {
   "cell_type": "code",
   "execution_count": 374,
   "metadata": {},
   "outputs": [
    {
     "name": "stdout",
     "output_type": "stream",
     "text": [
      "0 1988312.3914933947\n",
      "0.001 851029.3371762796\n",
      "0.001 851028.6502296486\n",
      "0.01 851028.6502294769\n",
      "1.0 851028.6502294769\n",
      "0.001 851028.6502294765\n",
      "1.0 851028.6502294765\n",
      "0.1 851028.6502294765\n",
      "0.1 851028.6502294765\n",
      "1.0 851028.6502294769\n",
      "1.0 851028.6502294769\n"
     ]
    }
   ],
   "source": [
    "dauphin(f, start, k=16, maxiter=10)"
   ]
  },
  {
   "cell_type": "code",
   "execution_count": 301,
   "metadata": {},
   "outputs": [
    {
     "name": "stdout",
     "output_type": "stream",
     "text": [
      "0 1988312.3914933947\n",
      "1592968.9226246432\n",
      "1547361.2885843161\n",
      "1541256.9300806383\n",
      "1539108.6840045631\n",
      "1537895.0493410516\n",
      "1536890.147100027\n",
      "1536016.7396551392\n",
      "1535213.3655596918\n",
      "1534461.2502924802\n",
      "1533738.1052153772\n",
      "1533036.7729064203\n",
      "1532347.905068905\n",
      "1531668.6032894535\n",
      "1530994.9259260062\n",
      "1530325.674149038\n",
      "1529659.1845181738\n",
      "1528994.9541074522\n",
      "1528332.2767107408\n",
      "1527670.9388590925\n",
      "1527010.637915026\n"
     ]
    }
   ],
   "source": [
    "dauphin(f, start, k=2, maxiter=20)"
   ]
  },
  {
   "cell_type": "code",
   "execution_count": null,
   "metadata": {},
   "outputs": [],
   "source": []
  }
 ],
 "metadata": {
  "kernelspec": {
   "display_name": "Python 3",
   "language": "python",
   "name": "python3"
  },
  "language_info": {
   "codemirror_mode": {
    "name": "ipython",
    "version": 3
   },
   "file_extension": ".py",
   "mimetype": "text/x-python",
   "name": "python",
   "nbconvert_exporter": "python",
   "pygments_lexer": "ipython3",
   "version": "3.8.5"
  }
 },
 "nbformat": 4,
 "nbformat_minor": 4
}
